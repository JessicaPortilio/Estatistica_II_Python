{
  "nbformat": 4,
  "nbformat_minor": 0,
  "metadata": {
    "colab": {
      "name": "DistribuicaoTdeStudent.ipynb",
      "provenance": []
    },
    "kernelspec": {
      "name": "python3",
      "display_name": "Python 3"
    },
    "language_info": {
      "name": "python"
    }
  },
  "cells": [
    {
      "cell_type": "code",
      "execution_count": 1,
      "metadata": {
        "id": "FvAE0qXS4w2l"
      },
      "outputs": [],
      "source": [
        "# Importação da função para fazer o teste\n",
        "from scipy.stats import t"
      ]
    },
    {
      "cell_type": "markdown",
      "source": [
        "Média de salário dos cientistas de dados = R$ 75.00 por hora. Amostra com 9 funcionários e desvio padrão = 10. Graus de liberdade, t=1.5"
      ],
      "metadata": {
        "id": "AJNvAvoc48HY"
      }
    },
    {
      "cell_type": "code",
      "source": [
        "# Qual a probabilidade de selecionar um cientista de dados e o salário ser menor que R$ 80 por hora\n",
        "t.cdf(1.5, 8)"
      ],
      "metadata": {
        "colab": {
          "base_uri": "https://localhost:8080/"
        },
        "id": "U8IzunEW5H8c",
        "outputId": "1622c4e5-3312-4f3b-d50d-1f3712c171b6"
      },
      "execution_count": 2,
      "outputs": [
        {
          "output_type": "execute_result",
          "data": {
            "text/plain": [
              "0.9139983540240443"
            ]
          },
          "metadata": {},
          "execution_count": 2
        }
      ]
    },
    {
      "cell_type": "code",
      "source": [
        "# Qual a probabilidade do salário ser maior do que 80?\n",
        "t.sf(1.5, 8)"
      ],
      "metadata": {
        "colab": {
          "base_uri": "https://localhost:8080/"
        },
        "id": "mw9EFGib5W-x",
        "outputId": "0d2c3a6d-18e2-4594-c971-8b8c4895eed5"
      },
      "execution_count": 3,
      "outputs": [
        {
          "output_type": "execute_result",
          "data": {
            "text/plain": [
              "0.08600164597595565"
            ]
          },
          "metadata": {},
          "execution_count": 3
        }
      ]
    },
    {
      "cell_type": "code",
      "source": [
        "# Somatório da execução dos dois códigos acima (lado esquerdo + lado direito da distribuição)\n",
        "t.cdf(1.5, 8) + t.sf(1.5, 8)"
      ],
      "metadata": {
        "colab": {
          "base_uri": "https://localhost:8080/"
        },
        "id": "EJ9INRsm5hQh",
        "outputId": "e93abcbc-327e-44d2-84e0-3274baf83511"
      },
      "execution_count": 4,
      "outputs": [
        {
          "output_type": "execute_result",
          "data": {
            "text/plain": [
              "0.9999999999999999"
            ]
          },
          "metadata": {},
          "execution_count": 4
        }
      ]
    }
  ]
}