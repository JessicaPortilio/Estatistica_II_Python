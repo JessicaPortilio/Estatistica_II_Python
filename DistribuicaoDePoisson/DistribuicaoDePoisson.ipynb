{
  "nbformat": 4,
  "nbformat_minor": 0,
  "metadata": {
    "colab": {
      "name": "DistribuicaoDePoisson",
      "provenance": []
    },
    "kernelspec": {
      "name": "python3",
      "display_name": "Python 3"
    },
    "language_info": {
      "name": "python"
    }
  },
  "cells": [
    {
      "cell_type": "code",
      "execution_count": 1,
      "metadata": {
        "id": "ej0H-mka8UuW"
      },
      "outputs": [],
      "source": [
        "# importação da função\n",
        "from scipy.stats import poisson"
      ]
    },
    {
      "cell_type": "markdown",
      "source": [
        "Média de acidentes de carro é 2 por dia"
      ],
      "metadata": {
        "id": "NuRwgkxD8fpc"
      }
    },
    {
      "cell_type": "code",
      "source": [
        "# Qual a probabilidade de ocorrerem 3 acidentes no dia?\n",
        "poisson.pmf(3,2)"
      ],
      "metadata": {
        "colab": {
          "base_uri": "https://localhost:8080/"
        },
        "id": "ZTWMEGVU8j7i",
        "outputId": "3389dc71-62e7-4406-dd92-5fe74bb2acea"
      },
      "execution_count": 2,
      "outputs": [
        {
          "output_type": "execute_result",
          "data": {
            "text/plain": [
              "0.18044704431548356"
            ]
          },
          "metadata": {},
          "execution_count": 2
        }
      ]
    },
    {
      "cell_type": "code",
      "source": [
        "# Qual a probabilidade de ocorrerem 3 ou menos acidentes no dia?\n",
        "poisson.cdf(3,2)"
      ],
      "metadata": {
        "colab": {
          "base_uri": "https://localhost:8080/"
        },
        "id": "OmvAPjOI8r_5",
        "outputId": "37afcb4b-359d-4126-bdd9-04b7a0a61653"
      },
      "execution_count": 3,
      "outputs": [
        {
          "output_type": "execute_result",
          "data": {
            "text/plain": [
              "0.857123460498547"
            ]
          },
          "metadata": {},
          "execution_count": 3
        }
      ]
    },
    {
      "cell_type": "code",
      "source": [
        "# Qual a probabilidade de ocorrerem  mais de 3 acidentes no dia?\n",
        "poisson.sf(3,2)"
      ],
      "metadata": {
        "colab": {
          "base_uri": "https://localhost:8080/"
        },
        "id": "7spT8qtm8y-h",
        "outputId": "78159c55-8024-4d65-dc91-db697bcc8981"
      },
      "execution_count": 4,
      "outputs": [
        {
          "output_type": "execute_result",
          "data": {
            "text/plain": [
              "0.14287653950145296"
            ]
          },
          "metadata": {},
          "execution_count": 4
        }
      ]
    }
  ]
}